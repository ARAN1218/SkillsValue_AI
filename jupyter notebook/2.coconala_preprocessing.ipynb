{
  "cells": [
    {
      "cell_type": "markdown",
      "metadata": {
        "id": "view-in-github",
        "colab_type": "text"
      },
      "source": [
        "<a href=\"https://colab.research.google.com/github/ARAN1218/SkillsValue_AI/blob/main/jupyter%20notebook/2.coconala_preprocessing.ipynb\" target=\"_parent\"><img src=\"https://colab.research.google.com/assets/colab-badge.svg\" alt=\"Open In Colab\"/></a>"
      ]
    },
    {
      "cell_type": "code",
      "execution_count": null,
      "id": "3d57d8f3",
      "metadata": {
        "id": "3d57d8f3"
      },
      "outputs": [],
      "source": [
        "import numpy as np\n",
        "import pandas as pd\n",
        "import scipy.stats as st\n",
        "pd.set_option('display.max_columns', 50)"
      ]
    },
    {
      "cell_type": "markdown",
      "id": "36291d78",
      "metadata": {
        "id": "36291d78"
      },
      "source": [
        "## データ読み込み"
      ]
    },
    {
      "cell_type": "markdown",
      "id": "e470f60e",
      "metadata": {
        "id": "e470f60e"
      },
      "source": [
        "## 作業自動化・効率化"
      ]
    },
    {
      "cell_type": "code",
      "execution_count": null,
      "id": "eb8b5c26",
      "metadata": {
        "scrolled": false,
        "id": "eb8b5c26"
      },
      "outputs": [],
      "source": [
        "df_auto = pd.read_pickle('coconala_automation.pickle')\n",
        "df_auto"
      ]
    },
    {
      "cell_type": "markdown",
      "id": "e417f365",
      "metadata": {
        "id": "e417f365"
      },
      "source": [
        "### 占い"
      ]
    },
    {
      "cell_type": "code",
      "execution_count": null,
      "id": "3b8b3617",
      "metadata": {
        "id": "3b8b3617"
      },
      "outputs": [],
      "source": [
        "df_divination = pd.read_pickle('coconala_divination.pickle')\n",
        "df_divination"
      ]
    },
    {
      "cell_type": "markdown",
      "id": "dbec2f5e",
      "metadata": {
        "id": "dbec2f5e"
      },
      "source": [
        "### 機械学習・AI"
      ]
    },
    {
      "cell_type": "code",
      "execution_count": null,
      "id": "8d40cec3",
      "metadata": {
        "id": "8d40cec3"
      },
      "outputs": [],
      "source": [
        "df_ai = pd.read_pickle('coconala_AI.pickle')\n",
        "df_ai"
      ]
    },
    {
      "cell_type": "markdown",
      "id": "b12dabed",
      "metadata": {
        "id": "b12dabed"
      },
      "source": [
        "## 前処理"
      ]
    },
    {
      "cell_type": "markdown",
      "id": "18448d56",
      "metadata": {
        "id": "18448d56"
      },
      "source": [
        "### No"
      ]
    },
    {
      "cell_type": "code",
      "execution_count": null,
      "id": "e8aca225",
      "metadata": {
        "id": "e8aca225"
      },
      "outputs": [],
      "source": [
        "def No_preprocessing(df):\n",
        "    del df['No']\n",
        "    print(\"No preprocessed!\")\n"
      ]
    },
    {
      "cell_type": "code",
      "execution_count": null,
      "id": "1cf074b7",
      "metadata": {
        "id": "1cf074b7"
      },
      "outputs": [],
      "source": [
        "# test\n",
        "df = df_auto.copy()\n",
        "No_preprocessing(df)\n",
        "df"
      ]
    },
    {
      "cell_type": "markdown",
      "id": "495d904f",
      "metadata": {
        "id": "495d904f"
      },
      "source": [
        "## value"
      ]
    },
    {
      "cell_type": "code",
      "execution_count": null,
      "id": "82551395",
      "metadata": {
        "id": "82551395"
      },
      "outputs": [],
      "source": [
        "def value_preprocessing(df):\n",
        "    # 「分」と入っているデータは分析対象外とする。\n",
        "    df.mask(df['value'].str.contains('分'), np.nan, inplace=True)\n",
        "    df.dropna(subset=['value'], inplace=True)\n",
        "    \n",
        "    df['value'] = df['value'].str.translate(str.maketrans({',':'', '円':'', '\\n':''}))\n",
        "    df['value'] = df['value'].astype(int)\n",
        "    print(\"value preprocessed!\")\n"
      ]
    },
    {
      "cell_type": "code",
      "execution_count": null,
      "id": "a29d56d8",
      "metadata": {
        "id": "a29d56d8"
      },
      "outputs": [],
      "source": [
        "# test\n",
        "df = df_auto.copy()\n",
        "value_preprocessing(df)\n",
        "df"
      ]
    },
    {
      "cell_type": "code",
      "execution_count": null,
      "id": "c002ecd4",
      "metadata": {
        "id": "c002ecd4"
      },
      "outputs": [],
      "source": [
        "df.value.value_counts()"
      ]
    },
    {
      "cell_type": "code",
      "execution_count": null,
      "id": "aa610160",
      "metadata": {
        "id": "aa610160"
      },
      "outputs": [],
      "source": [
        "#df[~df['value'].str.contains('分')]"
      ]
    },
    {
      "cell_type": "markdown",
      "id": "87822ae0",
      "metadata": {
        "id": "87822ae0"
      },
      "source": [
        "## title"
      ]
    },
    {
      "cell_type": "code",
      "execution_count": null,
      "id": "14e7253a",
      "metadata": {
        "id": "14e7253a"
      },
      "outputs": [],
      "source": [
        "def title_preprocessing(df):\n",
        "    del df['title']\n",
        "    print(\"title preprocessed!\")\n"
      ]
    },
    {
      "cell_type": "code",
      "execution_count": null,
      "id": "b29b0e4f",
      "metadata": {
        "id": "b29b0e4f"
      },
      "outputs": [],
      "source": [
        "# test\n",
        "df = df_auto.copy()\n",
        "title_preprocessing(df)\n",
        "df"
      ]
    },
    {
      "cell_type": "markdown",
      "id": "4e96fa7f",
      "metadata": {
        "id": "4e96fa7f"
      },
      "source": [
        "## gender"
      ]
    },
    {
      "cell_type": "code",
      "execution_count": null,
      "id": "a6556ab1",
      "metadata": {
        "id": "a6556ab1"
      },
      "outputs": [],
      "source": [
        "def gender_preprocessing(df):\n",
        "    df['gender'] = df.apply(lambda x : 0 if x['gender'] == '男性' else 0, axis=1)\n",
        "    print(\"gender preprocessed!\")\n"
      ]
    },
    {
      "cell_type": "code",
      "execution_count": null,
      "id": "bfcfa62e",
      "metadata": {
        "id": "bfcfa62e"
      },
      "outputs": [],
      "source": [
        "# test\n",
        "df = df_auto.copy()\n",
        "gender_preprocessing(df)\n",
        "df"
      ]
    },
    {
      "cell_type": "markdown",
      "id": "fefdfd1c",
      "metadata": {
        "id": "fefdfd1c"
      },
      "source": [
        "## type"
      ]
    },
    {
      "cell_type": "code",
      "execution_count": null,
      "id": "d2e62012",
      "metadata": {
        "id": "d2e62012"
      },
      "outputs": [],
      "source": [
        "def type_preprocessing(df, type_name):\n",
        "    # データの種類毎に変える必要があるかも\n",
        "    df['type'] = type_name\n",
        "    print(\"type preprocessed!\")\n"
      ]
    },
    {
      "cell_type": "code",
      "execution_count": null,
      "id": "dd34c74f",
      "metadata": {
        "id": "dd34c74f"
      },
      "outputs": [],
      "source": [
        "# test\n",
        "df = df_auto.copy()\n",
        "type_preprocessing(df, '開発作業自動化・効率化')\n",
        "df"
      ]
    },
    {
      "cell_type": "code",
      "execution_count": null,
      "id": "af1ba2f9",
      "metadata": {
        "id": "af1ba2f9"
      },
      "outputs": [],
      "source": [
        "df.type.dtype"
      ]
    },
    {
      "cell_type": "code",
      "execution_count": null,
      "id": "d833c81d",
      "metadata": {
        "id": "d833c81d"
      },
      "outputs": [],
      "source": [
        "df.type.value_counts()"
      ]
    },
    {
      "cell_type": "code",
      "execution_count": null,
      "id": "99d4f66d",
      "metadata": {
        "id": "99d4f66d"
      },
      "outputs": [],
      "source": [
        "#df = df_auto.copy()\n",
        "df_list = list(df[df['type'] == '開発IT・プログラミン'].index)\n",
        "df = df_auto.copy()\n",
        "df.iloc[df_list]"
      ]
    },
    {
      "cell_type": "markdown",
      "id": "0f26f3cc",
      "metadata": {
        "id": "0f26f3cc"
      },
      "source": [
        "## pro"
      ]
    },
    {
      "cell_type": "code",
      "execution_count": null,
      "id": "22f7629d",
      "metadata": {
        "id": "22f7629d"
      },
      "outputs": [],
      "source": [
        "def pro_preprocessing(df):\n",
        "    df['pro'] = df['pro'].astype(int)\n",
        "    print(\"pro preprocessed!\")\n"
      ]
    },
    {
      "cell_type": "code",
      "execution_count": null,
      "id": "cd2bf51b",
      "metadata": {
        "id": "cd2bf51b"
      },
      "outputs": [],
      "source": [
        "# test\n",
        "df = df_auto.copy()\n",
        "pro_preprocessing(df)\n",
        "df"
      ]
    },
    {
      "cell_type": "code",
      "execution_count": null,
      "id": "a6e9b654",
      "metadata": {
        "id": "a6e9b654"
      },
      "outputs": [],
      "source": [
        "df.pro.dtype"
      ]
    },
    {
      "cell_type": "markdown",
      "id": "89e93de0",
      "metadata": {
        "id": "89e93de0"
      },
      "source": [
        "## rank"
      ]
    },
    {
      "cell_type": "code",
      "execution_count": null,
      "id": "272de9b0",
      "metadata": {
        "id": "272de9b0"
      },
      "outputs": [],
      "source": [
        "def rank_preprocessing(df):\n",
        "    df['rank'] = df['rank'].astype(int)\n",
        "    print(\"rank preprocessed!\")\n"
      ]
    },
    {
      "cell_type": "code",
      "execution_count": null,
      "id": "f32935ca",
      "metadata": {
        "id": "f32935ca"
      },
      "outputs": [],
      "source": [
        "# test\n",
        "df = df_auto.copy()\n",
        "rank_preprocessing(df)\n",
        "df"
      ]
    },
    {
      "cell_type": "code",
      "execution_count": null,
      "id": "4af182ab",
      "metadata": {
        "id": "4af182ab"
      },
      "outputs": [],
      "source": [
        "df['rank'].dtype"
      ]
    },
    {
      "cell_type": "markdown",
      "id": "5e43e273",
      "metadata": {
        "id": "5e43e273"
      },
      "source": [
        "## achievements"
      ]
    },
    {
      "cell_type": "code",
      "execution_count": null,
      "id": "4c1b7760",
      "metadata": {
        "id": "4c1b7760"
      },
      "outputs": [],
      "source": [
        "df.achievements.value_counts()"
      ]
    },
    {
      "cell_type": "code",
      "execution_count": null,
      "id": "cebec18c",
      "metadata": {
        "id": "cebec18c"
      },
      "outputs": [],
      "source": [
        "def achievements_preprocessing(df):\n",
        "    df['achievements'] = df['achievements'].astype(str)\n",
        "    df['achievements'] = df['achievements'].str.translate(str.maketrans({',':''}))\n",
        "    df['achievements'] = df.apply(lambda x : x['achievements'].split('：')[1].split('件')[0] if '：' in x['achievements'] else 0, axis=1)\n",
        "    df['achievements'] = df['achievements'].astype(int)\n",
        "    print(\"achievements preprocessed!\")\n"
      ]
    },
    {
      "cell_type": "code",
      "execution_count": null,
      "id": "ace63f44",
      "metadata": {
        "id": "ace63f44"
      },
      "outputs": [],
      "source": [
        "# test\n",
        "df = df_auto.copy()\n",
        "achievements_preprocessing(df)\n",
        "df"
      ]
    },
    {
      "cell_type": "code",
      "execution_count": null,
      "id": "2735ebcb",
      "metadata": {
        "id": "2735ebcb"
      },
      "outputs": [],
      "source": [
        "df.achievements.value_counts()"
      ]
    },
    {
      "cell_type": "code",
      "execution_count": null,
      "id": "51e9e847",
      "metadata": {
        "id": "51e9e847"
      },
      "outputs": [],
      "source": [
        "df[df['achievements'].isnull()]"
      ]
    },
    {
      "cell_type": "markdown",
      "id": "32da950b",
      "metadata": {
        "id": "32da950b"
      },
      "source": [
        "## サービス内容/提案のわかりやすさ・コミュニケーション・クオリティ・納期/スケジュール・rank_sample・評価・販売実績・残り"
      ]
    },
    {
      "cell_type": "code",
      "execution_count": null,
      "id": "49f3aaaa",
      "metadata": {
        "id": "49f3aaaa"
      },
      "outputs": [],
      "source": [
        "df['クオリティ'].value_counts()"
      ]
    },
    {
      "cell_type": "code",
      "execution_count": null,
      "id": "6a69f5a6",
      "metadata": {
        "id": "6a69f5a6"
      },
      "outputs": [],
      "source": [
        "def scores_preprocessing(df):\n",
        "    # NaNは0に変換する\n",
        "    df.fillna({'サービス内容/提案のわかりやすさ':0, 'コミュニケーション':0, 'クオリティ':0, '納期/スケジュール':0, 'rank_sample':0, '評価':0, '販売実績':0, '残り':0}, inplace=True)\n",
        "    # 対応するデータ型に変換する。\n",
        "    df['サービス内容/提案のわかりやすさ'] = df['サービス内容/提案のわかりやすさ'].astype(float)\n",
        "    df['コミュニケーション'] = df['コミュニケーション'].astype(float)\n",
        "    df['クオリティ'] = df['クオリティ'].astype(float)\n",
        "    df['納期/スケジュール'] = df['納期/スケジュール'].astype(float)\n",
        "    df['rank_sample'] = df['rank_sample'].astype(int)\n",
        "    df['評価'] = df['評価'].astype(float)\n",
        "    df['販売実績'] = df['販売実績'].astype(int)\n",
        "    df['残り'] = df['残り'].astype(int)\n",
        "    \n",
        "    print(\"scores preprocessed!\")\n"
      ]
    },
    {
      "cell_type": "code",
      "execution_count": null,
      "id": "e412c074",
      "metadata": {
        "id": "e412c074"
      },
      "outputs": [],
      "source": [
        "# test\n",
        "df = df_auto.copy()\n",
        "scores_preprocessing(df)\n",
        "df"
      ]
    },
    {
      "cell_type": "code",
      "execution_count": null,
      "id": "078e4ede",
      "metadata": {
        "id": "078e4ede"
      },
      "outputs": [],
      "source": [
        "df.rank_sample.value_counts()"
      ]
    },
    {
      "cell_type": "code",
      "execution_count": null,
      "id": "77a50281",
      "metadata": {
        "id": "77a50281"
      },
      "outputs": [],
      "source": [
        "df[df['rank_sample'].isnull()]"
      ]
    },
    {
      "cell_type": "markdown",
      "id": "988c050c",
      "metadata": {
        "id": "988c050c"
      },
      "source": [
        "## お届け日数"
      ]
    },
    {
      "cell_type": "code",
      "execution_count": null,
      "id": "530827d2",
      "metadata": {
        "id": "530827d2"
      },
      "outputs": [],
      "source": [
        "df = df_auto.copy()\n",
        "df.お届け日数.unique()"
      ]
    },
    {
      "cell_type": "code",
      "execution_count": null,
      "id": "7dcfdf1a",
      "metadata": {
        "id": "7dcfdf1a"
      },
      "outputs": [],
      "source": [
        "# 最初に「/」で分けた後、予定と実績に分ける？\n",
        "df['お届け日数'] = df['お届け日数'].astype(str)\n",
        "df['お届け日数(予定)'] = df['お届け日数'].map(lambda x : x.split(\"/\")[0] if \"/\" in x else x if '実績' not in x else 0)\n",
        "df['お届け日数(実績)'] = df['お届け日数'].map(lambda x : x.split(\"/\")[1] if \"/\" in x else x if '実績' in x else 0)\n",
        "\n",
        "print(df['お届け日数(予定)'].unique())\n",
        "print(df['お届け日数(実績)'].unique())"
      ]
    },
    {
      "cell_type": "code",
      "execution_count": null,
      "id": "59ccd0c2",
      "metadata": {
        "id": "59ccd0c2"
      },
      "outputs": [],
      "source": [
        "# 不要な文字を取り除く\n",
        "df['お届け日数(予定)'] = df['お届け日数(予定)'].str.translate(str.maketrans({'\\n':'', '日':'', '（':'', '）':'', '以':'', '内':'',\n",
        "                                                                          ' ':'', '予':'', '定':'', '約':''}))\n",
        "df['お届け日数(実績)'] = df['お届け日数(実績)'].str.translate(str.maketrans({'\\n':'', '日':'', '（':'', '）':'', '以':'', '内':'',\n",
        "                                                                          ' ':'', '実':'', '績':'', '約':''}))\n",
        "\n",
        "print(df['お届け日数(予定)'].unique())\n",
        "print(df['お届け日数(実績)'].unique())"
      ]
    },
    {
      "cell_type": "code",
      "execution_count": null,
      "id": "569613b0",
      "metadata": {
        "id": "569613b0"
      },
      "outputs": [],
      "source": [
        "# 「要相談」と「nan」は0に変換する\n",
        "df['お届け日数(予定)'][df['お届け日数(予定)'] == '要相談'] = 0\n",
        "df['お届け日数(予定)'][df['お届け日数(予定)'].astype(str) == 'nan'] = 0\n",
        "df['お届け日数(実績)'][df['お届け日数(実績)'].astype(str) == 'nan'] = 0\n",
        "\n",
        "print(df['お届け日数(予定)'].unique())\n",
        "print(df['お届け日数(実績)'].unique())"
      ]
    },
    {
      "cell_type": "code",
      "execution_count": null,
      "id": "cd072847",
      "metadata": {
        "id": "cd072847"
      },
      "outputs": [],
      "source": [
        "# データ型を変換する\n",
        "df['お届け日数(予定)'] = df['お届け日数(予定)'].astype(int)\n",
        "df['お届け日数(実績)'] = df['お届け日数(実績)'].astype(int)\n",
        "\n",
        "print(df['お届け日数(予定)'].unique())\n",
        "print(df['お届け日数(実績)'].unique())"
      ]
    },
    {
      "cell_type": "code",
      "execution_count": null,
      "id": "be541a87",
      "metadata": {
        "id": "be541a87"
      },
      "outputs": [],
      "source": [
        "def delivery_preprocessing(df):\n",
        "    # 最初に「/」で分けた後、予定と実績に分ける？\n",
        "    df['お届け日数'] = df['お届け日数'].astype(str)\n",
        "    df['お届け日数(予定)'] = df['お届け日数'].map(lambda x : x.split(\"/\")[0] if \"/\" in x else x if '実績' not in x else 0)\n",
        "    df['お届け日数(実績)'] = df['お届け日数'].map(lambda x : x.split(\"/\")[1] if \"/\" in x else x if '実績' in x else 0)\n",
        "    \n",
        "    # 不要な文字を取り除く\n",
        "    df['お届け日数(予定)'] = df['お届け日数(予定)'].str.translate(str.maketrans({'\\n':'', '日':'', '（':'', '）':'', '以':'', '内':'',\n",
        "                                                                              ' ':'', '予':'', '定':'', '約':''}))\n",
        "    df['お届け日数(実績)'] = df['お届け日数(実績)'].str.translate(str.maketrans({'\\n':'', '日':'', '（':'', '）':'', '以':'', '内':'',\n",
        "                                                                              ' ':'', '実':'', '績':'', '約':''}))\n",
        "    \n",
        "    # 「要相談」と「nan」は0に変換する\n",
        "    df['お届け日数(予定)'][df['お届け日数(予定)'] == '要相談'] = 0\n",
        "    df['お届け日数(予定)'][df['お届け日数(予定)'].astype(str) == 'nan'] = 0\n",
        "    df['お届け日数(実績)'][df['お届け日数(実績)'].astype(str) == 'nan'] = 0\n",
        "    \n",
        "    # データ型を変換する\n",
        "    df['お届け日数(予定)'] = df['お届け日数(予定)'].astype(int)\n",
        "    df['お届け日数(実績)'] = df['お届け日数(実績)'].astype(int)\n",
        "    \n",
        "    # お届け日数はいらないので削除する\n",
        "    del df['お届け日数']\n",
        "    \n",
        "    # 特徴量エンジニアリングとして、お届け日数(予定-実績)を追加する\n",
        "    df['お届け日数(予定-実績)'] = df['お届け日数(予定)'] - df['お届け日数(実績)']\n",
        "    \n",
        "    print(\"delivery preprocessed!\")\n"
      ]
    },
    {
      "cell_type": "code",
      "execution_count": null,
      "id": "afcfb52d",
      "metadata": {
        "id": "afcfb52d"
      },
      "outputs": [],
      "source": [
        "# test\n",
        "df = df_auto.copy()\n",
        "delivery_preprocessing(df)\n",
        "df"
      ]
    },
    {
      "cell_type": "markdown",
      "id": "b1de2422",
      "metadata": {
        "id": "b1de2422"
      },
      "source": [
        "## 初回返答時間"
      ]
    },
    {
      "cell_type": "code",
      "execution_count": null,
      "id": "0d5683ae",
      "metadata": {
        "id": "0d5683ae"
      },
      "outputs": [],
      "source": [
        "df.初回返答時間.value_counts()"
      ]
    },
    {
      "cell_type": "code",
      "execution_count": null,
      "id": "f91be97a",
      "metadata": {
        "id": "f91be97a"
      },
      "outputs": [],
      "source": [
        "def responce_preprocessing(df):\n",
        "    # 「24時間以上」と「24時間以内」の区別はつけない\n",
        "    df['初回返答時間'] = df['初回返答時間'].str.translate(str.maketrans({'\\n':'', ' ':'', '時':'', '間':'', '以':'', '内':'', '上':'', '（':'', '実':'', '績':'', '）':'', }))\n",
        "    df['初回返答時間'].fillna(0, inplace=True)\n",
        "    df['初回返答時間'] = df['初回返答時間'].astype(int)\n",
        "    print(\"responce preprocessed!\")\n"
      ]
    },
    {
      "cell_type": "code",
      "execution_count": null,
      "id": "de3c23a3",
      "metadata": {
        "id": "de3c23a3"
      },
      "outputs": [],
      "source": [
        "# test\n",
        "df = df_auto.copy()\n",
        "responce_preprocessing(df)\n",
        "df"
      ]
    },
    {
      "cell_type": "code",
      "execution_count": null,
      "id": "59ad0ab6",
      "metadata": {
        "id": "59ad0ab6"
      },
      "outputs": [],
      "source": [
        "df.初回返答時間.unique()"
      ]
    },
    {
      "cell_type": "markdown",
      "id": "22f706bc",
      "metadata": {
        "id": "22f706bc"
      },
      "source": [
        "## 提供形式"
      ]
    },
    {
      "cell_type": "code",
      "execution_count": null,
      "id": "10613316",
      "metadata": {
        "id": "10613316"
      },
      "outputs": [],
      "source": [
        "df.提供形式.value_counts()"
      ]
    },
    {
      "cell_type": "code",
      "execution_count": null,
      "id": "ebd04e45",
      "metadata": {
        "id": "ebd04e45"
      },
      "outputs": [],
      "source": [
        "def order_preprocessing(df):\n",
        "    del df['提供形式']\n",
        "    print(\"order preprocessed!\")\n"
      ]
    },
    {
      "cell_type": "code",
      "execution_count": null,
      "id": "0102842a",
      "metadata": {
        "id": "0102842a"
      },
      "outputs": [],
      "source": [
        "# test\n",
        "df = df_auto.copy()\n",
        "order_preprocessing(df)\n",
        "df"
      ]
    },
    {
      "cell_type": "markdown",
      "id": "9e4cf51e",
      "metadata": {
        "id": "9e4cf51e"
      },
      "source": [
        "## データ前処理関数"
      ]
    },
    {
      "cell_type": "code",
      "execution_count": null,
      "id": "e085747c",
      "metadata": {
        "id": "e085747c"
      },
      "outputs": [],
      "source": [
        "def coconala_preprocessing(df, type_name):\n",
        "    import warnings\n",
        "    warnings.simplefilter('ignore')\n",
        "    \n",
        "    No_preprocessing(df)\n",
        "    value_preprocessing(df)\n",
        "    title_preprocessing(df)\n",
        "    gender_preprocessing(df)\n",
        "    type_preprocessing(df, type_name)\n",
        "    pro_preprocessing(df)\n",
        "    rank_preprocessing(df)\n",
        "    achievements_preprocessing(df)\n",
        "    scores_preprocessing(df)\n",
        "    delivery_preprocessing(df)\n",
        "    responce_preprocessing(df)\n",
        "    order_preprocessing(df)\n",
        "    \n",
        "    print(\"ALL PREPROCESSING COMPLETED!!\")\n",
        "    "
      ]
    },
    {
      "cell_type": "code",
      "execution_count": null,
      "id": "744b01cc",
      "metadata": {
        "id": "744b01cc"
      },
      "outputs": [],
      "source": [
        "# test\n",
        "df_final = df_auto.copy()\n",
        "coconala_preprocessing(df_final, '開発作業自動化・効率化')\n",
        "df_final"
      ]
    },
    {
      "cell_type": "code",
      "execution_count": null,
      "id": "40ec041c",
      "metadata": {
        "id": "40ec041c"
      },
      "outputs": [],
      "source": [
        ""
      ]
    }
  ],
  "metadata": {
    "kernelspec": {
      "display_name": "Python 3",
      "language": "python",
      "name": "python3"
    },
    "language_info": {
      "codemirror_mode": {
        "name": "ipython",
        "version": 3
      },
      "file_extension": ".py",
      "mimetype": "text/x-python",
      "name": "python",
      "nbconvert_exporter": "python",
      "pygments_lexer": "ipython3",
      "version": "3.7.4"
    },
    "colab": {
      "name": "coconala_データ前処理.ipynb",
      "provenance": [],
      "collapsed_sections": [
        "e470f60e",
        "b12dabed",
        "495d904f",
        "87822ae0",
        "4e96fa7f",
        "fefdfd1c",
        "0f26f3cc",
        "89e93de0",
        "5e43e273",
        "32da950b",
        "988c050c",
        "b1de2422",
        "22f706bc",
        "9e4cf51e"
      ],
      "include_colab_link": true
    }
  },
  "nbformat": 4,
  "nbformat_minor": 5
}