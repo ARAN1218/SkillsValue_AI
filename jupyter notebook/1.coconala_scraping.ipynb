{
  "cells": [
    {
      "cell_type": "markdown",
      "metadata": {
        "id": "view-in-github",
        "colab_type": "text"
      },
      "source": [
        "<a href=\"https://colab.research.google.com/github/ARAN1218/SkillsValue_AI/blob/main/jupyter%20notebook/1.scraping.ipynb\" target=\"_parent\"><img src=\"https://colab.research.google.com/assets/colab-badge.svg\" alt=\"Open In Colab\"/></a>"
      ]
    },
    {
      "cell_type": "code",
      "execution_count": null,
      "id": "8258f812",
      "metadata": {
        "id": "8258f812"
      },
      "outputs": [],
      "source": [
        "from bs4 import BeautifulSoup\n",
        "import requests\n",
        "from time import sleep\n",
        "from pprint import pprint\n",
        "import numpy as np\n",
        "import pandas as pd\n",
        "from tqdm.notebook import tqdm\n",
        "import random\n",
        "import re\n",
        "import traceback\n",
        "\n",
        "pd.set_option('display.max_rows', 50)\n",
        "pd.set_option('display.max_columns',None)"
      ]
    },
    {
      "cell_type": "markdown",
      "id": "8efef940",
      "metadata": {
        "id": "8efef940"
      },
      "source": [
        "## 検証"
      ]
    },
    {
      "cell_type": "code",
      "execution_count": null,
      "id": "0fbd45b7",
      "metadata": {
        "id": "0fbd45b7"
      },
      "outputs": [],
      "source": [
        "url = \"https://coconala.com/categories/230?ref=category_popular_subcategories&pro_priority_display=0&ref_c=1&y=0&business_flag=false&page={}\"\n",
        "print(url.format(1))"
      ]
    },
    {
      "cell_type": "code",
      "execution_count": null,
      "id": "c2b509b2",
      "metadata": {
        "id": "c2b509b2"
      },
      "outputs": [],
      "source": [
        "headers = {\n",
        "    \"User-Agent\":\"Mozilla/5.0 (Macintosh; Intel Mac OS X 10_15_6) AppleWebKit/605.1.15 (KHTML, like Gecko) Version/14.0.3 Safari/605.1.15\"\n",
        "}\n",
        "target_url = url.format(1)\n",
        "r = requests.get(target_url, headers=headers)\n",
        "sleep(1)\n",
        "soup = BeautifulSoup(r.content, 'html.parser')"
      ]
    },
    {
      "cell_type": "code",
      "execution_count": null,
      "id": "079ed731",
      "metadata": {
        "id": "079ed731"
      },
      "outputs": [],
      "source": [
        "# 一つ目のurlを取得\n",
        "contents = soup.find_all('a', class_='c-searchPageItemList_inner')\n",
        "target_url = \"https://coconala.com\" + contents[0].get('href')\n",
        "print(target_url)"
      ]
    },
    {
      "cell_type": "code",
      "execution_count": null,
      "id": "fec45d05",
      "metadata": {
        "id": "fec45d05"
      },
      "outputs": [],
      "source": [
        "int(target_url.split(\"?\")[0].split(\"/\")[-1])"
      ]
    },
    {
      "cell_type": "code",
      "execution_count": null,
      "id": "350e560f",
      "metadata": {
        "id": "350e560f"
      },
      "outputs": [],
      "source": [
        "!pip install html5lib"
      ]
    },
    {
      "cell_type": "code",
      "execution_count": null,
      "id": "7a7ebf7a",
      "metadata": {
        "id": "7a7ebf7a"
      },
      "outputs": [],
      "source": [
        "r2 = requests.get(target_url, headers=headers)\n",
        "sleep(1)\n",
        "soup2 = BeautifulSoup(r2.content, 'html.parser')"
      ]
    },
    {
      "cell_type": "code",
      "execution_count": null,
      "id": "da475b8b",
      "metadata": {
        "collapsed": true,
        "id": "da475b8b"
      },
      "outputs": [],
      "source": [
        "soup2"
      ]
    },
    {
      "cell_type": "code",
      "execution_count": null,
      "id": "ee3bff09",
      "metadata": {
        "id": "ee3bff09"
      },
      "outputs": [],
      "source": [
        "contents2_label = soup2.find_all('div', class_='c-performance_label')\n",
        "print(contents2_label[0].text)\n",
        "\n",
        "contents2_value = soup2.find_all('strong')\n",
        "contents2_value"
      ]
    },
    {
      "cell_type": "code",
      "execution_count": null,
      "id": "e67c710d",
      "metadata": {
        "id": "e67c710d"
      },
      "outputs": [],
      "source": [
        "contents = soup2.find_all('ul', class_='')\n",
        "contents[2].text"
      ]
    },
    {
      "cell_type": "code",
      "execution_count": null,
      "id": "ccde35d5",
      "metadata": {
        "id": "ccde35d5"
      },
      "outputs": [],
      "source": [
        "soup2.find_all('div', class_='c-lastLoginRow_content')[0].text"
      ]
    },
    {
      "cell_type": "code",
      "execution_count": null,
      "id": "9b919076",
      "metadata": {
        "id": "9b919076"
      },
      "outputs": [],
      "source": [
        "a = soup2.find_all('table', class_='c-contentsSpecificationsInnerList')\n",
        "print(a[0].find('th'))\n",
        "print(a[0].find('td').text)\n",
        "#print(a[0].find('span'))"
      ]
    },
    {
      "cell_type": "code",
      "execution_count": null,
      "id": "7b1ceaf6",
      "metadata": {
        "id": "7b1ceaf6"
      },
      "outputs": [],
      "source": [
        "soup2.find_all('div', class_='c-providerIcon c-provider_icon')"
      ]
    },
    {
      "cell_type": "code",
      "execution_count": null,
      "id": "a8c7c660",
      "metadata": {
        "id": "a8c7c660"
      },
      "outputs": [],
      "source": [
        "a = soup2.find_all(class_='c-levelSp_level')\n",
        "a"
      ]
    },
    {
      "cell_type": "code",
      "execution_count": null,
      "id": "068e7cb4",
      "metadata": {
        "id": "068e7cb4"
      },
      "outputs": [],
      "source": [
        "a = soup2.find_all('div', class_='c-providerInfo_achievementCount c-achievementCount')\n",
        "a"
      ]
    },
    {
      "cell_type": "code",
      "execution_count": null,
      "id": "a6417f11",
      "metadata": {
        "id": "a6417f11"
      },
      "outputs": [],
      "source": [
        "a = soup2.find_all('div', class_='c-indicator_heading')\n",
        "b = soup2.find_all('div', class_='c-indicator_star')\n",
        "print(a)\n",
        "print(b[0].find('i').get('data-score'))"
      ]
    },
    {
      "cell_type": "code",
      "execution_count": null,
      "id": "8ce35131",
      "metadata": {
        "id": "8ce35131"
      },
      "outputs": [],
      "source": [
        "a = soup.select('img[class=\"lazyload\"]')\n",
        "\n",
        "a_list = []\n",
        "for i in range(len(a)):\n",
        "    a_list.append(int(a[i].get('data-src')[-5]))\n",
        "print(a_list)"
      ]
    },
    {
      "cell_type": "code",
      "execution_count": null,
      "id": "63f29334",
      "metadata": {
        "id": "63f29334"
      },
      "outputs": [],
      "source": [
        "e_list = []\n",
        "e = {\n",
        "    'No':int(target_url.split(\"?\")[0].split(\"/\")[-1])\n",
        "}\n",
        "\n",
        "e['value'] = soup2.find('span', class_='c-price_price').text\n",
        "e['title'] = re.sub(r'\\s', '', soup2.find('p', class_='c-overview_overview').text)\n",
        "e['type'] = soup2.find_all('ul', class_='')[2].text\n",
        "e['gender'] = re.sub(r'\\s', '', soup2.find_all('div', class_='c-lastLoginRow_content')[0].text)\n",
        "\n",
        "#スクレイピングした情報を格納(格納されなかったカラムはNaNになる)\n",
        "for cont_num, cont_name in enumerate(contents2_label):\n",
        "    e[re.sub(r'\\s', '', cont_name.text)] = contents2_value[cont_num].text\n",
        "\n",
        "for schedule in soup2.find_all('table', class_='c-contentsSpecificationsInnerList'):\n",
        "    e[re.sub(r'\\s', '', schedule.find('th').text)] = schedule.find('span').text\n",
        "\n",
        "print(e)\n",
        "e_list.append(e)\n",
        "pd.DataFrame(e_list)"
      ]
    },
    {
      "cell_type": "code",
      "execution_count": null,
      "id": "199a448f",
      "metadata": {
        "id": "199a448f"
      },
      "outputs": [],
      "source": [
        "# 二つ目のurlを取得\n",
        "contents = soup.find_all('a', class_='c-searchPageItemList_inner')\n",
        "target_url = \"https://coconala.com\" + contents[1].get('href')\n",
        "print(target_url)\n",
        "\n",
        "e_list = []\n",
        "e = {\n",
        "    'No':int(target_url.split(\"?\")[0].split(\"/\")[-1])\n",
        "}\n",
        "\n",
        "r3 = requests.get(target_url, headers=headers)\n",
        "sleep(1)\n",
        "soup3 = BeautifulSoup(r3.content, 'html.parser')\n",
        "contents3_label = soup3.find_all('div', class_='c-performance_label')\n",
        "contents3_value = soup3.find_all('strong')\n",
        "\n",
        "e['value'] = soup3.find('span', class_='c-price_price').text\n",
        "e['title'] = re.sub(r'\\s', '', soup3.find('p', class_='c-overview_overview').text)\n",
        "e['type'] = soup3.find_all('ul', class_='')[2].text\n",
        "e['gender'] = re.sub(r'\\s', '', soup3.find_all('div', class_='c-lastLoginRow_content')[0].text)\n",
        "\n",
        "#スクレイピングした情報を格納(格納されなかったカラムはNaNになる)\n",
        "for cont_num, cont_name in enumerate(contents3_label):\n",
        "    e[re.sub(r'\\s', '', cont_name.text)] = contents3_value[cont_num].text\n",
        "\n",
        "for schedule in soup3.find_all('table', class_='c-contentsSpecificationsInnerList'):\n",
        "    e[re.sub(r'\\s', '', schedule.find('th').text)] = schedule.find('span').text\n",
        "\n",
        "print(e)\n",
        "e_list.append(e)\n",
        "pd.DataFrame(e_list)"
      ]
    },
    {
      "cell_type": "code",
      "execution_count": null,
      "id": "3a03a527",
      "metadata": {
        "id": "3a03a527"
      },
      "outputs": [],
      "source": [
        "a = soup3.find_all('table', class_='c-contentsSpecificationsInnerList')\n",
        "print(a[0].find_all('th'))\n",
        "print(a[0].find_all('td'))"
      ]
    },
    {
      "cell_type": "code",
      "execution_count": null,
      "id": "af726d8d",
      "metadata": {
        "id": "af726d8d"
      },
      "outputs": [],
      "source": [
        "a = soup2.find_all('h2', class_='c-HeadingSecond c-HeadingSecond-withBorder')\n",
        "re.sub(r'\\s', '', a[-1].text)"
      ]
    },
    {
      "cell_type": "code",
      "execution_count": null,
      "id": "5b9f818a",
      "metadata": {
        "id": "5b9f818a"
      },
      "outputs": [],
      "source": [
        "a = soup2.select(\"div[class='c-contentsPurchaseSp']\")\n",
        "a = soup2.find_all('span', class_='c-favButtonTextCountSp_num')\n",
        "a"
      ]
    },
    {
      "cell_type": "code",
      "execution_count": null,
      "id": "69619981",
      "metadata": {
        "id": "69619981"
      },
      "outputs": [],
      "source": [
        "r = requests.get('https://coconala.com/categories/230?ref=category_popular_subcategories&pro_priority_display=0&ref_c=1&y=0&business_flag=false&page=9', headers=headers)\n",
        "sleep(1)\n",
        "soup = BeautifulSoup(r.content, 'html.parser')\n",
        "a = soup.find_all('div', class_='c-searchPageItemList')\n",
        "print(len(a))\n",
        "\n",
        "b = a[5].select('img[class=\"lazyload\"]')\n",
        "print(b)"
      ]
    },
    {
      "cell_type": "code",
      "execution_count": null,
      "id": "b18c9caf",
      "metadata": {
        "id": "b18c9caf"
      },
      "outputs": [],
      "source": [
        "r = requests.get('https://coconala.com/categories/230?ref=category_popular_subcategories&pro_priority_display=0&ref_c=1&y=0&business_flag=false&page=9', headers=headers)\n",
        "sleep(1)\n",
        "soup = BeautifulSoup(r.content, 'html.parser')\n",
        "contents = soup.find_all('a', class_='c-searchPageItemList_inner')\n",
        "ranking = soup.select('img[class=\"lazyload\"]')\n",
        "ranking_sample = soup.find_all('span', class_='c-serviceListItemColContentFooterPriceRating_count')\n",
        "print(len(ranking), len(ranking_sample))\n",
        "print(ranking)\n",
        "print(ranking_sample)"
      ]
    },
    {
      "cell_type": "markdown",
      "id": "d8d1f5ac",
      "metadata": {
        "id": "d8d1f5ac"
      },
      "source": [
        "## スクレイピング関数"
      ]
    },
    {
      "cell_type": "code",
      "execution_count": null,
      "id": "6b77610c",
      "metadata": {
        "scrolled": true,
        "id": "6b77610c"
      },
      "outputs": [],
      "source": [
        "def coconala_scraping(url, start=1, end=1, pre_results=[]):\n",
        "    e_list = pre_results.copy()\n",
        "    progress = list(pd.DataFrame(e_list)['No']) if (len(e_list) > 0) else []\n",
        "    headers = {\n",
        "        \"User-Agent\":\"Mozilla/5.0 (Macintosh; Intel Mac OS X 10_15_6) AppleWebKit/605.1.15 (KHTML, like Gecko) Version/14.0.3 Safari/605.1.15\"\n",
        "    }\n",
        "\n",
        "    try:\n",
        "        print(\"Scraping Start!\")\n",
        "        for i in tqdm(range(start, end+1)):\n",
        "            target_url = url.format(i)\n",
        "            print(\"Progressing:\", target_url)\n",
        "\n",
        "            r = requests.get(target_url, headers=headers)\n",
        "            sleep(1)\n",
        "            soup = BeautifulSoup(r.content, 'html.parser')\n",
        "            contents = soup.find_all('a', class_='c-searchPageItemList_inner')\n",
        "            project = soup.find_all('div', class_='c-searchPageItemList')\n",
        "\n",
        "            for j in tqdm(range(len(contents))):\n",
        "                target_url = \"https://coconala.com\" + contents[j].get('href')\n",
        "                print(target_url)\n",
        "\n",
        "                if (int(target_url.split(\"?\")[0].split(\"/\")[-1]) in progress):\n",
        "                    continue\n",
        "                e = {\n",
        "                    'No':int(target_url.split(\"?\")[0].split(\"/\")[-1])\n",
        "                }\n",
        "\n",
        "                r_for = requests.get(target_url, headers=headers)\n",
        "                sleep(1)\n",
        "                soup_for = BeautifulSoup(r_for.content, 'html.parser')\n",
        "\n",
        "                e['value'] = project[j].find('div', class_='c-serviceListItemColContentFooterPrice_price').text\n",
        "                e['title'] = re.sub(r'\\s', '', soup_for.find('p', class_='c-overview_overview').text)\n",
        "                e['type'] = soup_for.find_all('ul', class_='')[2].text\n",
        "                e['gender'] = re.sub(r'\\s', '', soup_for.find_all('div', class_='c-lastLoginRow_content')[0].text)\n",
        "                \n",
        "                try:\n",
        "                    pro = soup_for.find_all('img', loading='lazy')[0].get('alt')\n",
        "                    e['pro'] = 1 if pro in ('PRO', '占い') else 0\n",
        "                except:\n",
        "                    e['pro'] = 0\n",
        "                rank = project[j].select('img[class=\"lazyload\"]')\n",
        "                e['rank'] = rank[0].get('data-src')[-5] if len(rank) != 0 else 0\n",
        "                e['achievements'] = soup_for.find('div', class_='c-providerInfo_achievementCount c-achievementCount')\n",
        "\n",
        "                star_title = soup_for.find_all('div', class_='c-indicator_heading')\n",
        "                star_value = soup_for.find_all('div', class_='c-indicator_star')\n",
        "                for title, value in zip(star_title, star_value):\n",
        "                    e[re.sub(r'\\s', '', title.text)] = value.find('i').get('data-score')\n",
        "\n",
        "                try:\n",
        "                    e['rank_sample'] = re.sub(r'\\D', '', soup_for.find_all('h2', class_='c-HeadingSecond c-HeadingSecond-withBorder')[-1].text)\n",
        "                except:\n",
        "                    e['rank_sample'] = 0\n",
        "                contents_label = soup_for.find_all('div', class_='c-performance_label')\n",
        "                contents_value = soup_for.find_all('strong')\n",
        "                for cont_num, cont_name in enumerate(contents_label):\n",
        "                    e[re.sub(r'\\s', '', cont_name.text)] = contents_value[cont_num].text\n",
        "\n",
        "                schedule = soup_for.find('table', class_='c-contentsSpecificationsInnerList')\n",
        "                for title, value in zip(schedule.find_all('th'), schedule.find_all('td')):\n",
        "                    e[re.sub(r'\\s', '', title.text)] = value.text\n",
        "\n",
        "                e_list.append(e)\n",
        "\n",
        "            print()\n",
        "    except:\n",
        "        print(traceback.format_exc())\n",
        "        return e_list\n",
        "\n",
        "    \n",
        "    return e_list\n"
      ]
    },
    {
      "cell_type": "code",
      "execution_count": null,
      "id": "33aba2ac",
      "metadata": {
        "scrolled": true,
        "id": "33aba2ac"
      },
      "outputs": [],
      "source": [
        "url = \"https://coconala.com/categories/3?ref=header&business_flag=false&page={}\"\n",
        "t_list = coconala_scraping(url, 66, 75, t_list) # title?\n",
        "result = pd.DataFrame(t_list)\n",
        "display(result)"
      ]
    },
    {
      "cell_type": "code",
      "execution_count": null,
      "id": "86d44eb0",
      "metadata": {
        "id": "86d44eb0"
      },
      "outputs": [],
      "source": [
        "result = result.drop_duplicates()\n",
        "len(result)"
      ]
    },
    {
      "cell_type": "code",
      "execution_count": null,
      "id": "95a81e32",
      "metadata": {
        "scrolled": true,
        "id": "95a81e32"
      },
      "outputs": [],
      "source": [
        "result.tail(40)"
      ]
    },
    {
      "cell_type": "code",
      "execution_count": null,
      "id": "acbe4f63",
      "metadata": {
        "scrolled": true,
        "id": "acbe4f63"
      },
      "outputs": [],
      "source": [
        "for column in result.columns:\n",
        "    display(result[column].value_counts())"
      ]
    },
    {
      "cell_type": "code",
      "execution_count": null,
      "id": "c33a69ed",
      "metadata": {
        "id": "c33a69ed"
      },
      "outputs": [],
      "source": [
        "result.query('value.str.contains(\"40,000\")')"
      ]
    },
    {
      "cell_type": "code",
      "execution_count": null,
      "id": "ee42726b",
      "metadata": {
        "scrolled": true,
        "id": "ee42726b"
      },
      "outputs": [],
      "source": [
        "headers = {\n",
        "    \"User-Agent\":\"Mozilla/5.0 (Macintosh; Intel Mac OS X 10_15_6) AppleWebKit/605.1.15 (KHTML, like Gecko) Version/14.0.3 Safari/605.1.15\"\n",
        "}\n",
        "r = requests.get('https://coconala.com/categories/641?ref=header&business_flag=false&page=1', headers=headers)\n",
        "sleep(1)\n",
        "soup = BeautifulSoup(r.content, 'html5lib')\n",
        "project = soup.find_all('div', class_='c-serviceListItem c-serviceListItemList')\n",
        "#project = soup.find_all('div')\n",
        "print(len(project))\n",
        "print(project[0].find_all('div'))\n",
        "print(project[0].get('alt'))\n",
        "for i in range(len(project)):\n",
        "    print(project[i].get('alt'))"
      ]
    },
    {
      "cell_type": "code",
      "execution_count": null,
      "id": "e04eef57",
      "metadata": {
        "id": "e04eef57"
      },
      "outputs": [],
      "source": [
        "print(soup.select('img[alt=\"占い\"]'))#.get('alt')"
      ]
    },
    {
      "cell_type": "code",
      "execution_count": null,
      "id": "7bf2b5ec",
      "metadata": {
        "id": "7bf2b5ec"
      },
      "outputs": [],
      "source": [
        "soup"
      ]
    },
    {
      "cell_type": "markdown",
      "id": "ee12940c",
      "metadata": {
        "id": "ee12940c"
      },
      "source": [
        "https://coconala.com/services/2071292?ref=category_popular_subcategories&ref_kind=category&ref_no=94\n",
        "\n",
        "はコメント・評価なし"
      ]
    },
    {
      "cell_type": "markdown",
      "id": "5daa07a1",
      "metadata": {
        "id": "5daa07a1"
      },
      "source": [
        "https://coconala.com/services/2114902?ref=category_popular_subcategories&ref_kind=category&ref_no=352\n",
        "\n",
        "はrankがout of range"
      ]
    },
    {
      "cell_type": "code",
      "execution_count": null,
      "id": "33b1df73",
      "metadata": {
        "id": "33b1df73"
      },
      "outputs": [],
      "source": [
        "r = requests.get('https://coconala.com/services/2011861?ref=category_popular_subcategories&ref_kind=category&ref_no=58', headers=headers)\n",
        "soup = BeautifulSoup(r.content, 'html.parser')\n",
        "soup.find('span', class_='c-price_price').text"
      ]
    },
    {
      "cell_type": "code",
      "execution_count": null,
      "id": "e426547a",
      "metadata": {
        "id": "e426547a"
      },
      "outputs": [],
      "source": [
        "soup_for"
      ]
    },
    {
      "cell_type": "code",
      "execution_count": null,
      "id": "5b712817",
      "metadata": {
        "scrolled": true,
        "id": "5b712817"
      },
      "outputs": [],
      "source": [
        "df = result.copy()\n",
        "display(df)"
      ]
    },
    {
      "cell_type": "markdown",
      "id": "990e274a",
      "metadata": {
        "id": "990e274a"
      },
      "source": [
        "## データ保存(general)"
      ]
    },
    {
      "cell_type": "code",
      "execution_count": null,
      "id": "250d138c",
      "metadata": {
        "id": "250d138c"
      },
      "outputs": [],
      "source": [
        "result.to_csv('coconala.csv')\n",
        "df_csv = pd.read_csv('coconala.csv')\n",
        "del df_csv['Unnamed: 0']\n",
        "df_csv.to_pickle('coconala_.pickle')\n",
        "df_pickle = pd.read_pickle('coconala_.pickle')\n",
        "df_pickle"
      ]
    },
    {
      "cell_type": "markdown",
      "id": "a83244d2",
      "metadata": {
        "id": "a83244d2"
      },
      "source": [
        "## 作業自動化・効率化　保存"
      ]
    },
    {
      "cell_type": "code",
      "execution_count": null,
      "id": "2eba29e4",
      "metadata": {
        "id": "2eba29e4"
      },
      "outputs": [],
      "source": [
        "# データ保存\n",
        "# BeautifulSoup特有のデータ型があり、そのままだとpickleファイルにできないらしいので、とりあえずcsvに避難しておく。\n",
        "#result.to_csv('coconala.csv')"
      ]
    },
    {
      "cell_type": "code",
      "execution_count": null,
      "id": "c83339f5",
      "metadata": {
        "id": "c83339f5"
      },
      "outputs": [],
      "source": [
        "df_csv = pd.read_csv('coconala.csv')\n",
        "df_csv"
      ]
    },
    {
      "cell_type": "code",
      "execution_count": null,
      "id": "68741939",
      "metadata": {
        "id": "68741939"
      },
      "outputs": [],
      "source": [
        "df_csv['無料修正回数'].value_counts()"
      ]
    },
    {
      "cell_type": "code",
      "execution_count": null,
      "id": "73c483ae",
      "metadata": {
        "id": "73c483ae"
      },
      "outputs": [],
      "source": [
        "print(df.dtypes)\n",
        "print()\n",
        "print(df_csv.dtypes)"
      ]
    },
    {
      "cell_type": "code",
      "execution_count": null,
      "id": "c87fc625",
      "metadata": {
        "id": "c87fc625"
      },
      "outputs": [],
      "source": [
        "# 折角だから、一度csvファイルにしてデータ型が整備された状態のデータをpickleファイルにしてみた。\n",
        "del df_csv['Unnamed: 0']\n",
        "del df_csv['無料修正回数']\n",
        "#df_csv.to_pickle('coconala_automation.pickle')"
      ]
    },
    {
      "cell_type": "code",
      "execution_count": null,
      "id": "d40e8819",
      "metadata": {
        "id": "d40e8819"
      },
      "outputs": [],
      "source": [
        "df_pickle = pd.read_pickle('coconala_automation.pickle')\n",
        "df_pickle"
      ]
    },
    {
      "cell_type": "code",
      "execution_count": null,
      "id": "41b15b4b",
      "metadata": {
        "id": "41b15b4b"
      },
      "outputs": [],
      "source": [
        "print(df.dtypes)\n",
        "print()\n",
        "print(df_csv.dtypes)\n",
        "print()\n",
        "print(df_pickle.dtypes)"
      ]
    },
    {
      "cell_type": "markdown",
      "id": "f38de57e",
      "metadata": {
        "id": "f38de57e"
      },
      "source": [
        "## 占いのデータ　保存"
      ]
    },
    {
      "cell_type": "code",
      "execution_count": null,
      "id": "f2d166f5",
      "metadata": {
        "id": "f2d166f5"
      },
      "outputs": [],
      "source": [
        "# 占いのデータの内、「鑑定」と「カウンセリング」は手動でフラグをつける。\n",
        "res = result.copy()\n",
        "res['鑑定'] = res['鑑定'].map(lambda x : 1 if x == '' else 0)\n",
        "res['カウンセリング'] = res['カウンセリング'].map(lambda x : 1 if x == '' else 0)\n",
        "display(res['鑑定'].value_counts())\n",
        "display(res['カウンセリング'].value_counts())"
      ]
    },
    {
      "cell_type": "code",
      "execution_count": null,
      "id": "e263a298",
      "metadata": {
        "id": "e263a298"
      },
      "outputs": [],
      "source": [
        "# 占いのデータをcsv→pickleに保存する\n",
        "#res.to_csv('coconala.csv')"
      ]
    },
    {
      "cell_type": "code",
      "execution_count": null,
      "id": "86475631",
      "metadata": {
        "id": "86475631"
      },
      "outputs": [],
      "source": [
        "df_csv = pd.read_csv('coconala.csv')\n",
        "del df_csv['Unnamed: 0']\n",
        "df_csv"
      ]
    },
    {
      "cell_type": "code",
      "execution_count": null,
      "id": "b68a2d41",
      "metadata": {
        "id": "b68a2d41"
      },
      "outputs": [],
      "source": [
        "#df_csv.to_pickle('coconala_divination.pickle')"
      ]
    },
    {
      "cell_type": "code",
      "execution_count": null,
      "id": "ba71c094",
      "metadata": {
        "id": "ba71c094"
      },
      "outputs": [],
      "source": [
        "df_pickle = pd.read_pickle('coconala_divination.pickle')\n",
        "df_pickle"
      ]
    },
    {
      "cell_type": "code",
      "execution_count": null,
      "id": "778c485f",
      "metadata": {
        "id": "778c485f"
      },
      "outputs": [],
      "source": [
        "df_pickle.head(40)"
      ]
    }
  ],
  "metadata": {
    "kernelspec": {
      "display_name": "Python 3",
      "language": "python",
      "name": "python3"
    },
    "language_info": {
      "codemirror_mode": {
        "name": "ipython",
        "version": 3
      },
      "file_extension": ".py",
      "mimetype": "text/x-python",
      "name": "python",
      "nbconvert_exporter": "python",
      "pygments_lexer": "ipython3",
      "version": "3.7.4"
    },
    "colab": {
      "name": "作業自動化・効率化スクレイピング.ipynb",
      "provenance": [],
      "include_colab_link": true
    }
  },
  "nbformat": 4,
  "nbformat_minor": 5
}
